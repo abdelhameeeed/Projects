{
 "cells": [
  {
   "cell_type": "markdown",
   "metadata": {},
   "source": [
    "# Read the News Analysis\n",
    "## Newspapers and their online formats supply the public with the information we need to understand the events occurring in the world around us. From politics to sports, the news keeps us informed, in the loop, and ready to make decisions about how to act in a rapidly changing world.\n",
    "## Given the vast amount of news articles in circulation, identifying and organizing articles by topic is a useful activity. This can help you sift through the enormous amount of information out there so you can find the news relevant to your interests, or even allow you to build a news recommendation engine!\n",
    "## In this project you will use term frequency-inverse document frequency (tf-idf) to analyze each article’s content and uncover the terms that best describe each article, providing quick insight into each article’s topic."
   ]
  },
  {
   "cell_type": "markdown",
   "metadata": {},
   "source": []
  },
  {
   "cell_type": "code",
   "execution_count": 1,
   "metadata": {
    "_cell_guid": "b1076dfc-b9ad-4769-8c92-a6c4dae69d19",
    "_uuid": "8f2839f25d086af736a60e9eeb907d3b93b6e0e5"
   },
   "outputs": [
    {
     "name": "stdout",
     "output_type": "stream",
     "text": [
      "/kaggle/input/news-articles/Articles.csv\n"
     ]
    }
   ],
   "source": [
    "# This Python 3 environment comes with many helpful analytics libraries installed\n",
    "# It is defined by the kaggle/python docker image: https://github.com/kaggle/docker-python\n",
    "# For example, here's several helpful packages to load in \n",
    "import numpy as np # linear algebra\n",
    "import pandas as pd # data processing, CSV file I/O (e.g. pd.read_csv)\n",
    "from sklearn.feature_extraction.text import CountVectorizer , TfidfTransformer , TfidfVectorizer\n",
    "from nltk.stem import WordNetLemmatizer\n",
    "from collections import Counter\n",
    "from nltk.tokenize import word_tokenize\n",
    "from nltk.corpus import wordnet\n",
    "from nltk.corpus import stopwords\n",
    "import re\n",
    "import nltk\n",
    "from nltk import pos_tag\n",
    "# Input data files are available in the \"../input/\" directory.\n",
    "# For example, running this (by clicking run or pressing Shift+Enter) will list all files under the input directory\n",
    "\n",
    "import os\n",
    "for dirname, _, filenames in os.walk('/kaggle/input'):\n",
    "    for filename in filenames:\n",
    "        print(os.path.join(dirname, filename))\n",
    "\n",
    "# Any results you write to the current directory are saved as output."
   ]
  },
  {
   "cell_type": "code",
   "execution_count": 2,
   "metadata": {
    "_cell_guid": "79c7e3d0-c299-4dcb-8224-4455121ee9b0",
    "_uuid": "d629ff2d2480ee46fbb7e2d37f6b5fab8052498a"
   },
   "outputs": [],
   "source": [
    "df = pd.read_csv('/kaggle/input/news-articles/Articles.csv' , encoding= 'unicode_escape')"
   ]
  },
  {
   "cell_type": "code",
   "execution_count": 3,
   "metadata": {},
   "outputs": [],
   "source": [
    "stop_words = stopwords.words('english')\n",
    "normalizer = WordNetLemmatizer()"
   ]
  },
  {
   "cell_type": "code",
   "execution_count": 4,
   "metadata": {},
   "outputs": [],
   "source": [
    "def get_part_of_speech(word):\n",
    "  probable_part_of_speech = wordnet.synsets(word)\n",
    "  pos_counts = Counter()\n",
    "  pos_counts[\"n\"] = len(  [ item for item in probable_part_of_speech if item.pos()==\"n\"]  )\n",
    "  pos_counts[\"v\"] = len(  [ item for item in probable_part_of_speech if item.pos()==\"v\"]  )\n",
    "  pos_counts[\"a\"] = len(  [ item for item in probable_part_of_speech if item.pos()==\"a\"]  )\n",
    "  pos_counts[\"r\"] = len(  [ item for item in probable_part_of_speech if item.pos()==\"r\"]  )\n",
    "  most_likely_part_of_speech = pos_counts.most_common(1)[0][0]\n",
    "  return most_likely_part_of_speech"
   ]
  },
  {
   "cell_type": "code",
   "execution_count": 5,
   "metadata": {},
   "outputs": [],
   "source": [
    "def preprocess(article):\n",
    "    cleaned = re.sub(r'\\W+' , ' ' , article ).lower()\n",
    "    tokenized = word_tokenize(cleaned)\n",
    "    normalized = \" \".join( [ normalizer.lemmatize( token , get_part_of_speech( token ) ) for token in tokenized if not re.match(r'\\d+',token) and token not in stop_words])\n",
    "    \n",
    "    return normalized"
   ]
  },
  {
   "cell_type": "code",
   "execution_count": 6,
   "metadata": {},
   "outputs": [
    {
     "data": {
      "text/html": [
       "<div>\n",
       "<style scoped>\n",
       "    .dataframe tbody tr th:only-of-type {\n",
       "        vertical-align: middle;\n",
       "    }\n",
       "\n",
       "    .dataframe tbody tr th {\n",
       "        vertical-align: top;\n",
       "    }\n",
       "\n",
       "    .dataframe thead th {\n",
       "        text-align: right;\n",
       "    }\n",
       "</style>\n",
       "<table border=\"1\" class=\"dataframe\">\n",
       "  <thead>\n",
       "    <tr style=\"text-align: right;\">\n",
       "      <th></th>\n",
       "      <th>Article</th>\n",
       "      <th>Date</th>\n",
       "      <th>Heading</th>\n",
       "      <th>NewsType</th>\n",
       "    </tr>\n",
       "  </thead>\n",
       "  <tbody>\n",
       "    <tr>\n",
       "      <th>0</th>\n",
       "      <td>KARACHI: The Sindh government has decided to b...</td>\n",
       "      <td>1/1/2015</td>\n",
       "      <td>sindh govt decides to cut public transport far...</td>\n",
       "      <td>business</td>\n",
       "    </tr>\n",
       "    <tr>\n",
       "      <th>1</th>\n",
       "      <td>HONG KONG: Asian markets started 2015 on an up...</td>\n",
       "      <td>1/2/2015</td>\n",
       "      <td>asia stocks up in new year trad</td>\n",
       "      <td>business</td>\n",
       "    </tr>\n",
       "    <tr>\n",
       "      <th>2</th>\n",
       "      <td>HONG KONG:  Hong Kong shares opened 0.66 perce...</td>\n",
       "      <td>1/5/2015</td>\n",
       "      <td>hong kong stocks open 0.66 percent lower</td>\n",
       "      <td>business</td>\n",
       "    </tr>\n",
       "    <tr>\n",
       "      <th>3</th>\n",
       "      <td>HONG KONG: Asian markets tumbled Tuesday follo...</td>\n",
       "      <td>1/6/2015</td>\n",
       "      <td>asian stocks sink euro near nine year</td>\n",
       "      <td>business</td>\n",
       "    </tr>\n",
       "    <tr>\n",
       "      <th>4</th>\n",
       "      <td>NEW YORK: US oil prices Monday slipped below $...</td>\n",
       "      <td>1/6/2015</td>\n",
       "      <td>us oil prices slip below 50 a barr</td>\n",
       "      <td>business</td>\n",
       "    </tr>\n",
       "  </tbody>\n",
       "</table>\n",
       "</div>"
      ],
      "text/plain": [
       "                                             Article      Date  \\\n",
       "0  KARACHI: The Sindh government has decided to b...  1/1/2015   \n",
       "1  HONG KONG: Asian markets started 2015 on an up...  1/2/2015   \n",
       "2  HONG KONG:  Hong Kong shares opened 0.66 perce...  1/5/2015   \n",
       "3  HONG KONG: Asian markets tumbled Tuesday follo...  1/6/2015   \n",
       "4  NEW YORK: US oil prices Monday slipped below $...  1/6/2015   \n",
       "\n",
       "                                             Heading  NewsType  \n",
       "0  sindh govt decides to cut public transport far...  business  \n",
       "1                    asia stocks up in new year trad  business  \n",
       "2           hong kong stocks open 0.66 percent lower  business  \n",
       "3             asian stocks sink euro near nine year   business  \n",
       "4                 us oil prices slip below 50 a barr  business  "
      ]
     },
     "execution_count": 6,
     "metadata": {},
     "output_type": "execute_result"
    }
   ],
   "source": [
    "df.head()"
   ]
  },
  {
   "cell_type": "code",
   "execution_count": 7,
   "metadata": {},
   "outputs": [],
   "source": [
    "articles = []\n",
    "for i in range(0 , df.shape[0]):\n",
    "    articles.append(df['Article'].iloc[i])"
   ]
  },
  {
   "cell_type": "code",
   "execution_count": 8,
   "metadata": {},
   "outputs": [],
   "source": [
    "preprcessed_articles = []\n",
    "for i in articles :\n",
    "    preprcessed_articles.append(preprocess(i))"
   ]
  },
  {
   "cell_type": "code",
   "execution_count": 9,
   "metadata": {},
   "outputs": [],
   "source": [
    "vectorizer = CountVectorizer()"
   ]
  },
  {
   "cell_type": "code",
   "execution_count": 10,
   "metadata": {},
   "outputs": [],
   "source": [
    "counts = vectorizer.fit_transform(preprcessed_articles)"
   ]
  },
  {
   "cell_type": "code",
   "execution_count": 11,
   "metadata": {},
   "outputs": [],
   "source": [
    "try:\n",
    "  article_index = [f\"Article {i+1}\" for i in range(len(articles))]\n",
    "except:\n",
    "  pass\n",
    "try:\n",
    "  feature_names = vectorizer.get_feature_names()\n",
    "except:\n",
    "  pass"
   ]
  },
  {
   "cell_type": "code",
   "execution_count": 12,
   "metadata": {},
   "outputs": [
    {
     "name": "stdout",
     "output_type": "stream",
     "text": [
      "              Article 1  Article 2  Article 3  Article 4  Article 5  \\\n",
      "__cf_email__          0          0          0          0          0   \n",
      "a300                  0          0          0          0          0   \n",
      "a320                  0          0          0          0          0   \n",
      "a321                  0          0          0          0          0   \n",
      "a330                  0          0          0          0          0   \n",
      "a330s                 0          0          0          0          0   \n",
      "a350                  0          0          0          0          0   \n",
      "a350s                 0          0          0          0          0   \n",
      "a380                  0          0          0          0          0   \n",
      "aa                    0          0          0          0          0   \n",
      "\n",
      "              Article 6  Article 7  Article 8  Article 9  Article 10  ...  \\\n",
      "__cf_email__          0          0          0          0           0  ...   \n",
      "a300                  0          0          0          0           0  ...   \n",
      "a320                  0          0          0          0           0  ...   \n",
      "a321                  0          0          0          0           0  ...   \n",
      "a330                  0          0          0          0           0  ...   \n",
      "a330s                 0          0          0          0           0  ...   \n",
      "a350                  0          0          0          0           0  ...   \n",
      "a350s                 0          0          0          0           0  ...   \n",
      "a380                  0          0          0          0           0  ...   \n",
      "aa                    0          0          0          0           0  ...   \n",
      "\n",
      "              Article 2683  Article 2684  Article 2685  Article 2686  \\\n",
      "__cf_email__             0             0             0             0   \n",
      "a300                     0             0             0             0   \n",
      "a320                     0             0             0             0   \n",
      "a321                     0             0             0             0   \n",
      "a330                     0             0             0             0   \n",
      "a330s                    0             0             0             0   \n",
      "a350                     0             0             0             0   \n",
      "a350s                    0             0             0             0   \n",
      "a380                     0             0             0             0   \n",
      "aa                       0             0             0             0   \n",
      "\n",
      "              Article 2687  Article 2688  Article 2689  Article 2690  \\\n",
      "__cf_email__             0             0             0             0   \n",
      "a300                     0             0             0             0   \n",
      "a320                     0             0             0             0   \n",
      "a321                     0             0             0             0   \n",
      "a330                     0             0             0             0   \n",
      "a330s                    0             0             0             0   \n",
      "a350                     0             0             0             0   \n",
      "a350s                    0             0             0             0   \n",
      "a380                     0             0             0             0   \n",
      "aa                       0             0             0             0   \n",
      "\n",
      "              Article 2691  Article 2692  \n",
      "__cf_email__             0             0  \n",
      "a300                     0             0  \n",
      "a320                     0             0  \n",
      "a321                     0             0  \n",
      "a330                     0             0  \n",
      "a330s                    0             0  \n",
      "a350                     0             0  \n",
      "a350s                    0             0  \n",
      "a380                     0             0  \n",
      "aa                       0             0  \n",
      "\n",
      "[10 rows x 2692 columns]\n"
     ]
    }
   ],
   "source": [
    "try:\n",
    "  df_word_counts = pd.DataFrame(counts.T.todense(), index = feature_names, columns = article_index)\n",
    "  print(df_word_counts.head(10))\n",
    "except:\n",
    "  pass"
   ]
  },
  {
   "cell_type": "code",
   "execution_count": 13,
   "metadata": {},
   "outputs": [],
   "source": [
    "transformer = TfidfTransformer(norm = None)"
   ]
  },
  {
   "cell_type": "code",
   "execution_count": 14,
   "metadata": {},
   "outputs": [],
   "source": [
    "tfidf_scores_transformed = transformer.fit_transform(counts)"
   ]
  },
  {
   "cell_type": "code",
   "execution_count": 15,
   "metadata": {},
   "outputs": [
    {
     "name": "stdout",
     "output_type": "stream",
     "text": [
      "              Article 1  Article 2  Article 3  Article 4  Article 5  \\\n",
      "__cf_email__        0.0        0.0        0.0        0.0        0.0   \n",
      "a300                0.0        0.0        0.0        0.0        0.0   \n",
      "a320                0.0        0.0        0.0        0.0        0.0   \n",
      "a321                0.0        0.0        0.0        0.0        0.0   \n",
      "a330                0.0        0.0        0.0        0.0        0.0   \n",
      "a330s               0.0        0.0        0.0        0.0        0.0   \n",
      "a350                0.0        0.0        0.0        0.0        0.0   \n",
      "a350s               0.0        0.0        0.0        0.0        0.0   \n",
      "a380                0.0        0.0        0.0        0.0        0.0   \n",
      "aa                  0.0        0.0        0.0        0.0        0.0   \n",
      "\n",
      "              Article 6  Article 7  Article 8  Article 9  Article 10  ...  \\\n",
      "__cf_email__        0.0        0.0        0.0        0.0         0.0  ...   \n",
      "a300                0.0        0.0        0.0        0.0         0.0  ...   \n",
      "a320                0.0        0.0        0.0        0.0         0.0  ...   \n",
      "a321                0.0        0.0        0.0        0.0         0.0  ...   \n",
      "a330                0.0        0.0        0.0        0.0         0.0  ...   \n",
      "a330s               0.0        0.0        0.0        0.0         0.0  ...   \n",
      "a350                0.0        0.0        0.0        0.0         0.0  ...   \n",
      "a350s               0.0        0.0        0.0        0.0         0.0  ...   \n",
      "a380                0.0        0.0        0.0        0.0         0.0  ...   \n",
      "aa                  0.0        0.0        0.0        0.0         0.0  ...   \n",
      "\n",
      "              Article 2683  Article 2684  Article 2685  Article 2686  \\\n",
      "__cf_email__           0.0           0.0           0.0           0.0   \n",
      "a300                   0.0           0.0           0.0           0.0   \n",
      "a320                   0.0           0.0           0.0           0.0   \n",
      "a321                   0.0           0.0           0.0           0.0   \n",
      "a330                   0.0           0.0           0.0           0.0   \n",
      "a330s                  0.0           0.0           0.0           0.0   \n",
      "a350                   0.0           0.0           0.0           0.0   \n",
      "a350s                  0.0           0.0           0.0           0.0   \n",
      "a380                   0.0           0.0           0.0           0.0   \n",
      "aa                     0.0           0.0           0.0           0.0   \n",
      "\n",
      "              Article 2687  Article 2688  Article 2689  Article 2690  \\\n",
      "__cf_email__           0.0           0.0           0.0           0.0   \n",
      "a300                   0.0           0.0           0.0           0.0   \n",
      "a320                   0.0           0.0           0.0           0.0   \n",
      "a321                   0.0           0.0           0.0           0.0   \n",
      "a330                   0.0           0.0           0.0           0.0   \n",
      "a330s                  0.0           0.0           0.0           0.0   \n",
      "a350                   0.0           0.0           0.0           0.0   \n",
      "a350s                  0.0           0.0           0.0           0.0   \n",
      "a380                   0.0           0.0           0.0           0.0   \n",
      "aa                     0.0           0.0           0.0           0.0   \n",
      "\n",
      "              Article 2691  Article 2692  \n",
      "__cf_email__           0.0           0.0  \n",
      "a300                   0.0           0.0  \n",
      "a320                   0.0           0.0  \n",
      "a321                   0.0           0.0  \n",
      "a330                   0.0           0.0  \n",
      "a330s                  0.0           0.0  \n",
      "a350                   0.0           0.0  \n",
      "a350s                  0.0           0.0  \n",
      "a380                   0.0           0.0  \n",
      "aa                     0.0           0.0  \n",
      "\n",
      "[10 rows x 2692 columns]\n"
     ]
    }
   ],
   "source": [
    "try:\n",
    "  df_tf_idf = pd.DataFrame(tfidf_scores_transformed.T.todense(), index=feature_names, columns=article_index)\n",
    "  print(df_tf_idf.head(10))\n",
    "except:\n",
    "  pass"
   ]
  },
  {
   "cell_type": "code",
   "execution_count": 16,
   "metadata": {},
   "outputs": [],
   "source": [
    "vectorizer = TfidfVectorizer(norm = None)"
   ]
  },
  {
   "cell_type": "code",
   "execution_count": 17,
   "metadata": {},
   "outputs": [],
   "source": [
    "tfidf_scores = vectorizer.fit_transform(preprcessed_articles)"
   ]
  },
  {
   "cell_type": "code",
   "execution_count": 18,
   "metadata": {},
   "outputs": [
    {
     "name": "stdout",
     "output_type": "stream",
     "text": [
      "              Article 1  Article 2  Article 3  Article 4  Article 5  \\\n",
      "__cf_email__        0.0        0.0        0.0        0.0        0.0   \n",
      "a300                0.0        0.0        0.0        0.0        0.0   \n",
      "a320                0.0        0.0        0.0        0.0        0.0   \n",
      "a321                0.0        0.0        0.0        0.0        0.0   \n",
      "a330                0.0        0.0        0.0        0.0        0.0   \n",
      "a330s               0.0        0.0        0.0        0.0        0.0   \n",
      "a350                0.0        0.0        0.0        0.0        0.0   \n",
      "a350s               0.0        0.0        0.0        0.0        0.0   \n",
      "a380                0.0        0.0        0.0        0.0        0.0   \n",
      "aa                  0.0        0.0        0.0        0.0        0.0   \n",
      "\n",
      "              Article 6  Article 7  Article 8  Article 9  Article 10  ...  \\\n",
      "__cf_email__        0.0        0.0        0.0        0.0         0.0  ...   \n",
      "a300                0.0        0.0        0.0        0.0         0.0  ...   \n",
      "a320                0.0        0.0        0.0        0.0         0.0  ...   \n",
      "a321                0.0        0.0        0.0        0.0         0.0  ...   \n",
      "a330                0.0        0.0        0.0        0.0         0.0  ...   \n",
      "a330s               0.0        0.0        0.0        0.0         0.0  ...   \n",
      "a350                0.0        0.0        0.0        0.0         0.0  ...   \n",
      "a350s               0.0        0.0        0.0        0.0         0.0  ...   \n",
      "a380                0.0        0.0        0.0        0.0         0.0  ...   \n",
      "aa                  0.0        0.0        0.0        0.0         0.0  ...   \n",
      "\n",
      "              Article 2683  Article 2684  Article 2685  Article 2686  \\\n",
      "__cf_email__           0.0           0.0           0.0           0.0   \n",
      "a300                   0.0           0.0           0.0           0.0   \n",
      "a320                   0.0           0.0           0.0           0.0   \n",
      "a321                   0.0           0.0           0.0           0.0   \n",
      "a330                   0.0           0.0           0.0           0.0   \n",
      "a330s                  0.0           0.0           0.0           0.0   \n",
      "a350                   0.0           0.0           0.0           0.0   \n",
      "a350s                  0.0           0.0           0.0           0.0   \n",
      "a380                   0.0           0.0           0.0           0.0   \n",
      "aa                     0.0           0.0           0.0           0.0   \n",
      "\n",
      "              Article 2687  Article 2688  Article 2689  Article 2690  \\\n",
      "__cf_email__           0.0           0.0           0.0           0.0   \n",
      "a300                   0.0           0.0           0.0           0.0   \n",
      "a320                   0.0           0.0           0.0           0.0   \n",
      "a321                   0.0           0.0           0.0           0.0   \n",
      "a330                   0.0           0.0           0.0           0.0   \n",
      "a330s                  0.0           0.0           0.0           0.0   \n",
      "a350                   0.0           0.0           0.0           0.0   \n",
      "a350s                  0.0           0.0           0.0           0.0   \n",
      "a380                   0.0           0.0           0.0           0.0   \n",
      "aa                     0.0           0.0           0.0           0.0   \n",
      "\n",
      "              Article 2691  Article 2692  \n",
      "__cf_email__           0.0           0.0  \n",
      "a300                   0.0           0.0  \n",
      "a320                   0.0           0.0  \n",
      "a321                   0.0           0.0  \n",
      "a330                   0.0           0.0  \n",
      "a330s                  0.0           0.0  \n",
      "a350                   0.0           0.0  \n",
      "a350s                  0.0           0.0  \n",
      "a380                   0.0           0.0  \n",
      "aa                     0.0           0.0  \n",
      "\n",
      "[10 rows x 2692 columns]\n"
     ]
    }
   ],
   "source": [
    "\n",
    "try:\n",
    "  df_tf_idf = pd.DataFrame( tfidf_scores.T.todense() , index=feature_names, columns=article_index)\n",
    "  print(df_tf_idf.head( 10 ) )\n",
    "except:\n",
    "  pass\n"
   ]
  },
  {
   "cell_type": "code",
   "execution_count": 19,
   "metadata": {},
   "outputs": [
    {
     "name": "stdout",
     "output_type": "stream",
     "text": [
      "  Are the tf-idf scores the same?\n",
      "0                             YES\n"
     ]
    }
   ],
   "source": [
    "if np.allclose(tfidf_scores_transformed.todense(), tfidf_scores.todense()):\n",
    "  print(pd.DataFrame({'Are the tf-idf scores the same?':['YES']}))\n",
    "else:\n",
    "  print(pd.DataFrame({'Are the tf-idf scores the same?':['No, something is wrong :(']}))"
   ]
  },
  {
   "cell_type": "code",
   "execution_count": 20,
   "metadata": {},
   "outputs": [
    {
     "name": "stdout",
     "output_type": "stream",
     "text": [
      "Topic of  ,  Article 1    fare\n",
      "dtype: object\n",
      "Topic of  ,  Article 2    percent\n",
      "dtype: object\n",
      "Topic of  ,  Article 3    hong\n",
      "dtype: object\n",
      "Topic of  ,  Article 4    eurozone\n",
      "dtype: object\n",
      "Topic of  ,  Article 5    oil\n",
      "dtype: object\n",
      "Topic of  ,  Article 6    arabia\n",
      "dtype: object\n",
      "Topic of  ,  Article 7    kse\n",
      "dtype: object\n",
      "Topic of  ,  Article 8    ang\n",
      "dtype: object\n",
      "Topic of  ,  Article 9    sugar\n",
      "dtype: object\n",
      "Topic of  ,  Article 10    oil\n",
      "dtype: object\n",
      "Topic of  ,  Article 11    yen\n",
      "dtype: object\n",
      "Topic of  ,  Article 12    hong\n",
      "dtype: object\n",
      "Topic of  ,  Article 13    barrel\n",
      "dtype: object\n",
      "Topic of  ,  Article 14    petrol\n",
      "dtype: object\n",
      "Topic of  ,  Article 15    price\n",
      "dtype: object\n",
      "Topic of  ,  Article 16    petrol\n",
      "dtype: object\n",
      "Topic of  ,  Article 17    notification\n",
      "dtype: object\n",
      "Topic of  ,  Article 18    percent\n",
      "dtype: object\n",
      "Topic of  ,  Article 19    ecc\n",
      "dtype: object\n"
     ]
    }
   ],
   "source": [
    "for i in range(1 , 20):\n",
    "    print(\"Topic of  , \" , df_tf_idf[[f'Article {i}']].idxmax())"
   ]
  },
  {
   "cell_type": "code",
   "execution_count": null,
   "metadata": {},
   "outputs": [],
   "source": []
  }
 ],
 "metadata": {
  "kernelspec": {
   "display_name": "Python 3",
   "language": "python",
   "name": "python3"
  },
  "language_info": {
   "codemirror_mode": {
    "name": "ipython",
    "version": 3
   },
   "file_extension": ".py",
   "mimetype": "text/x-python",
   "name": "python",
   "nbconvert_exporter": "python",
   "pygments_lexer": "ipython3",
   "version": "3.6.6"
  }
 },
 "nbformat": 4,
 "nbformat_minor": 4
}
