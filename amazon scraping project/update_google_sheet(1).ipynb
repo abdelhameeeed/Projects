{
 "cells": [
  {
   "cell_type": "code",
   "execution_count": 5,
   "metadata": {},
   "outputs": [],
   "source": [
    "import gspread\n",
    "from amazon_bot import amazon"
   ]
  },
  {
   "cell_type": "code",
   "execution_count": 55,
   "metadata": {},
   "outputs": [],
   "source": [
    "class spreedsheet_fill(object):\n",
    "    def __init__(self , spread_sheet_name):\n",
    "        self.item = 1 \n",
    "        self.frequency = 3\n",
    "        self.price = 2 \n",
    "        self.url  = 4 \n",
    "        self.product_name = 5 \n",
    "        \n",
    "        S = ['https://spreadsheets.google.com/feeds' , 'https://www.googleapis.com/auth/drive']\n",
    "        creds = ServiceAccountCredentials.from_json_keyfile_name('Desktop/budget-youtube-89f32e7119da.json' , S)\n",
    "        clients = gspread.authorize(creds)\n",
    "        self.sheet = clients.open(spread_sheet_name).sheet1\n",
    "    def process_item_list(self):\n",
    "        records = self.sheet.col_values(self.item)[1:]\n",
    "        amazon_ob = amazon(records)\n",
    "        name , price , urls = amazon_ob.search_item()\n",
    "        print(\"Updating spreed sheet now. \" )\n",
    "        for i in range( 0  , len( price ) ):\n",
    "            self.sheet.update_cell( i + 2 , self.price   , price[i] )\n",
    "            self.sheet.update_cell( i + 2 , self.url   , urls[i] )\n",
    "            self.sheet.update_cell( i + 2 , self.product_name   , name[i] )\n",
    "            \n",
    "        print(\"process is done !!!! \")\n",
    "        \n",
    "        "
   ]
  },
  {
   "cell_type": "code",
   "execution_count": 57,
   "metadata": {},
   "outputs": [],
   "source": [
    "sheet1 = spreedsheet_fill('amazon')"
   ]
  },
  {
   "cell_type": "code",
   "execution_count": 58,
   "metadata": {},
   "outputs": [
    {
     "name": "stdout",
     "output_type": "stream",
     "text": [
      "searching for items  iphone11\n",
      "searching for items  doll\n",
      "searching for items  perfum\n",
      "searching for items  ring\n",
      "searching for items  flower\n",
      "searching for items  oven\n",
      "Updating spreed sheet now. \n",
      "process is done !!!! \n"
     ]
    }
   ],
   "source": [
    "sheet1.process_item_list()"
   ]
  },
  {
   "cell_type": "code",
   "execution_count": 62,
   "metadata": {},
   "outputs": [],
   "source": []
  },
  {
   "cell_type": "code",
   "execution_count": null,
   "metadata": {},
   "outputs": [],
   "source": []
  },
  {
   "cell_type": "code",
   "execution_count": null,
   "metadata": {},
   "outputs": [],
   "source": []
  }
 ],
 "metadata": {
  "kernelspec": {
   "display_name": "Python 3",
   "language": "python",
   "name": "python3"
  },
  "language_info": {
   "codemirror_mode": {
    "name": "ipython",
    "version": 3
   },
   "file_extension": ".py",
   "mimetype": "text/x-python",
   "name": "python",
   "nbconvert_exporter": "python",
   "pygments_lexer": "ipython3",
   "version": "3.6.5"
  }
 },
 "nbformat": 4,
 "nbformat_minor": 2
}
