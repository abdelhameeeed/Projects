{
  "nbformat": 4,
  "nbformat_minor": 0,
  "metadata": {
    "colab": {
      "name": "Untitled0.ipynb",
      "provenance": [],
      "collapsed_sections": []
    },
    "kernelspec": {
      "name": "python3",
      "display_name": "Python 3"
    },
    "accelerator": "GPU"
  },
  "cells": [
    {
      "cell_type": "code",
      "metadata": {
        "id": "pbr5gxbNtgfC",
        "colab_type": "code",
        "outputId": "8beb9cbf-b5ee-4fb8-ea16-a62f830f92c3",
        "colab": {
          "base_uri": "https://localhost:8080/",
          "height": 34
        }
      },
      "source": [
        "from google.colab import drive\n",
        "drive.mount('/content/drive')"
      ],
      "execution_count": 54,
      "outputs": [
        {
          "output_type": "stream",
          "text": [
            "Drive already mounted at /content/drive; to attempt to forcibly remount, call drive.mount(\"/content/drive\", force_remount=True).\n"
          ],
          "name": "stdout"
        }
      ]
    },
    {
      "cell_type": "code",
      "metadata": {
        "id": "W9f3e-YgL0Sx",
        "colab_type": "code",
        "outputId": "44ebb5c6-07c5-4f4a-a9ad-908fa73feb2f",
        "colab": {
          "base_uri": "https://localhost:8080/",
          "height": 67
        }
      },
      "source": [
        "!unzip /content/drive/My\\ Drive/Colab\\ Notebooks/Sign-Language-Digits-Dataset-master.zip "
      ],
      "execution_count": 55,
      "outputs": [
        {
          "output_type": "stream",
          "text": [
            "Archive:  /content/drive/My Drive/Colab Notebooks/Sign-Language-Digits-Dataset-master.zip\n",
            "a8e74fdf07410782d1bb8c12caa259a5f7154864\n",
            "replace Sign-Language-Digits-Dataset-master/Dataset/0/IMG_1118.JPG? [y]es, [n]o, [A]ll, [N]one, [r]ename: N\n"
          ],
          "name": "stdout"
        }
      ]
    },
    {
      "cell_type": "code",
      "metadata": {
        "id": "2gkW5ydHKE5i",
        "colab_type": "code",
        "outputId": "a8e5a960-2068-4275-b1de-7b34f81c58bd",
        "colab": {
          "base_uri": "https://localhost:8080/",
          "height": 608
        }
      },
      "source": [
        "!pip install  --upgrade tensorflow "
      ],
      "execution_count": 56,
      "outputs": [
        {
          "output_type": "stream",
          "text": [
            "Requirement already up-to-date: tensorflow in /usr/local/lib/python3.6/dist-packages (2.0.0)\n",
            "Requirement already satisfied, skipping upgrade: opt-einsum>=2.3.2 in /usr/local/lib/python3.6/dist-packages (from tensorflow) (3.1.0)\n",
            "Requirement already satisfied, skipping upgrade: keras-preprocessing>=1.0.5 in /usr/local/lib/python3.6/dist-packages (from tensorflow) (1.1.0)\n",
            "Requirement already satisfied, skipping upgrade: wheel>=0.26 in /usr/local/lib/python3.6/dist-packages (from tensorflow) (0.33.6)\n",
            "Requirement already satisfied, skipping upgrade: tensorflow-estimator<2.1.0,>=2.0.0 in /usr/local/lib/python3.6/dist-packages (from tensorflow) (2.0.1)\n",
            "Requirement already satisfied, skipping upgrade: termcolor>=1.1.0 in /usr/local/lib/python3.6/dist-packages (from tensorflow) (1.1.0)\n",
            "Requirement already satisfied, skipping upgrade: google-pasta>=0.1.6 in /usr/local/lib/python3.6/dist-packages (from tensorflow) (0.1.8)\n",
            "Requirement already satisfied, skipping upgrade: numpy<2.0,>=1.16.0 in /usr/local/lib/python3.6/dist-packages (from tensorflow) (1.17.4)\n",
            "Requirement already satisfied, skipping upgrade: protobuf>=3.6.1 in /usr/local/lib/python3.6/dist-packages (from tensorflow) (3.10.0)\n",
            "Requirement already satisfied, skipping upgrade: grpcio>=1.8.6 in /usr/local/lib/python3.6/dist-packages (from tensorflow) (1.15.0)\n",
            "Requirement already satisfied, skipping upgrade: astor>=0.6.0 in /usr/local/lib/python3.6/dist-packages (from tensorflow) (0.8.1)\n",
            "Requirement already satisfied, skipping upgrade: keras-applications>=1.0.8 in /usr/local/lib/python3.6/dist-packages (from tensorflow) (1.0.8)\n",
            "Requirement already satisfied, skipping upgrade: six>=1.10.0 in /usr/local/lib/python3.6/dist-packages (from tensorflow) (1.12.0)\n",
            "Requirement already satisfied, skipping upgrade: wrapt>=1.11.1 in /usr/local/lib/python3.6/dist-packages (from tensorflow) (1.11.2)\n",
            "Requirement already satisfied, skipping upgrade: gast==0.2.2 in /usr/local/lib/python3.6/dist-packages (from tensorflow) (0.2.2)\n",
            "Requirement already satisfied, skipping upgrade: tensorboard<2.1.0,>=2.0.0 in /usr/local/lib/python3.6/dist-packages (from tensorflow) (2.0.2)\n",
            "Requirement already satisfied, skipping upgrade: absl-py>=0.7.0 in /usr/local/lib/python3.6/dist-packages (from tensorflow) (0.8.1)\n",
            "Requirement already satisfied, skipping upgrade: setuptools in /usr/local/lib/python3.6/dist-packages (from protobuf>=3.6.1->tensorflow) (42.0.2)\n",
            "Requirement already satisfied, skipping upgrade: h5py in /usr/local/lib/python3.6/dist-packages (from keras-applications>=1.0.8->tensorflow) (2.8.0)\n",
            "Requirement already satisfied, skipping upgrade: markdown>=2.6.8 in /usr/local/lib/python3.6/dist-packages (from tensorboard<2.1.0,>=2.0.0->tensorflow) (3.1.1)\n",
            "Requirement already satisfied, skipping upgrade: requests<3,>=2.21.0 in /usr/local/lib/python3.6/dist-packages (from tensorboard<2.1.0,>=2.0.0->tensorflow) (2.21.0)\n",
            "Requirement already satisfied, skipping upgrade: google-auth<2,>=1.6.3 in /usr/local/lib/python3.6/dist-packages (from tensorboard<2.1.0,>=2.0.0->tensorflow) (1.8.2)\n",
            "Requirement already satisfied, skipping upgrade: werkzeug>=0.11.15 in /usr/local/lib/python3.6/dist-packages (from tensorboard<2.1.0,>=2.0.0->tensorflow) (0.16.0)\n",
            "Requirement already satisfied, skipping upgrade: google-auth-oauthlib<0.5,>=0.4.1 in /usr/local/lib/python3.6/dist-packages (from tensorboard<2.1.0,>=2.0.0->tensorflow) (0.4.1)\n",
            "Requirement already satisfied, skipping upgrade: idna<2.9,>=2.5 in /usr/local/lib/python3.6/dist-packages (from requests<3,>=2.21.0->tensorboard<2.1.0,>=2.0.0->tensorflow) (2.8)\n",
            "Requirement already satisfied, skipping upgrade: certifi>=2017.4.17 in /usr/local/lib/python3.6/dist-packages (from requests<3,>=2.21.0->tensorboard<2.1.0,>=2.0.0->tensorflow) (2019.11.28)\n",
            "Requirement already satisfied, skipping upgrade: urllib3<1.25,>=1.21.1 in /usr/local/lib/python3.6/dist-packages (from requests<3,>=2.21.0->tensorboard<2.1.0,>=2.0.0->tensorflow) (1.24.3)\n",
            "Requirement already satisfied, skipping upgrade: chardet<3.1.0,>=3.0.2 in /usr/local/lib/python3.6/dist-packages (from requests<3,>=2.21.0->tensorboard<2.1.0,>=2.0.0->tensorflow) (3.0.4)\n",
            "Requirement already satisfied, skipping upgrade: cachetools<3.2,>=2.0.0 in /usr/local/lib/python3.6/dist-packages (from google-auth<2,>=1.6.3->tensorboard<2.1.0,>=2.0.0->tensorflow) (3.1.1)\n",
            "Requirement already satisfied, skipping upgrade: pyasn1-modules>=0.2.1 in /usr/local/lib/python3.6/dist-packages (from google-auth<2,>=1.6.3->tensorboard<2.1.0,>=2.0.0->tensorflow) (0.2.7)\n",
            "Requirement already satisfied, skipping upgrade: rsa<4.1,>=3.1.4 in /usr/local/lib/python3.6/dist-packages (from google-auth<2,>=1.6.3->tensorboard<2.1.0,>=2.0.0->tensorflow) (4.0)\n",
            "Requirement already satisfied, skipping upgrade: requests-oauthlib>=0.7.0 in /usr/local/lib/python3.6/dist-packages (from google-auth-oauthlib<0.5,>=0.4.1->tensorboard<2.1.0,>=2.0.0->tensorflow) (1.3.0)\n",
            "Requirement already satisfied, skipping upgrade: pyasn1<0.5.0,>=0.4.6 in /usr/local/lib/python3.6/dist-packages (from pyasn1-modules>=0.2.1->google-auth<2,>=1.6.3->tensorboard<2.1.0,>=2.0.0->tensorflow) (0.4.8)\n",
            "Requirement already satisfied, skipping upgrade: oauthlib>=3.0.0 in /usr/local/lib/python3.6/dist-packages (from requests-oauthlib>=0.7.0->google-auth-oauthlib<0.5,>=0.4.1->tensorboard<2.1.0,>=2.0.0->tensorflow) (3.1.0)\n"
          ],
          "name": "stdout"
        }
      ]
    },
    {
      "cell_type": "code",
      "metadata": {
        "id": "5evjFyPXKdNa",
        "colab_type": "code",
        "colab": {}
      },
      "source": [
        "from PIL import Image\n",
        "import numpy as np\n",
        "import random\n",
        "import os \n",
        "import cv2\n",
        "from google.colab.patches import cv2_imshow\n",
        "from keras.models import Model, Sequential\n",
        "from keras.layers import Input, Dense, Flatten, Dropout, BatchNormalization\n",
        "from keras.layers import Conv2D, SeparableConv2D, MaxPool2D, LeakyReLU, Activation\n",
        "from keras.preprocessing.image import ImageDataGenerator\n",
        "from keras.callbacks import ModelCheckpoint, ReduceLROnPlateau\n",
        "from tensorflow.python.keras.layers import Dense,Flatten\n",
        "from tensorflow.python.keras import Sequential\n",
        "from keras.utils import to_categorical\n",
        "import matplotlib.pyplot as plt\n",
        "import tensorflow as tf"
      ],
      "execution_count": 0,
      "outputs": []
    },
    {
      "cell_type": "code",
      "metadata": {
        "id": "y2HOENSfU2bi",
        "colab_type": "code",
        "colab": {}
      },
      "source": [
        "images = []\n",
        "RGB_images=[]\n",
        "labels =  []\n",
        "list_ = [0 , 1 , 2 , 3 , 4 , 5 , 6 ,7 , 8 , 9 ]\n",
        "for i in list_ :\n",
        "  for img_path in os.listdir(\"Sign-Language-Digits-Dataset-master/Dataset/\" + str(i) + \"/\"):\n",
        "    img = Image.open(\"Sign-Language-Digits-Dataset-master/Dataset/\" + str(i) + \"/\" + img_path )\n",
        "    img  = img.resize((100 , 100))\n",
        "    img = np.array(img)\n",
        "    RGB_images.append(img)\n",
        "    img = cv2.cvtColor(img, cv2.COLOR_RGB2GRAY)\n",
        "    images.append(np.array(img))\n",
        "    labels.append(i)"
      ],
      "execution_count": 0,
      "outputs": []
    },
    {
      "cell_type": "code",
      "metadata": {
        "id": "edYMqTk2V6at",
        "colab_type": "code",
        "colab": {}
      },
      "source": [
        "labelsR = labels\n",
        "c = list(zip(images  , labels ) )\n",
        "random.shuffle(c)\n",
        "images , labels = zip(*c)\n",
        "\n",
        "\n",
        "\n",
        "c = list(zip(RGB_images  , labelsR ) )\n",
        "random.shuffle(c)\n",
        "RGB_images , labelsR = zip(*c)\n",
        "\n"
      ],
      "execution_count": 0,
      "outputs": []
    },
    {
      "cell_type": "code",
      "metadata": {
        "id": "bK8vn23tgc0D",
        "colab_type": "code",
        "colab": {}
      },
      "source": [
        "images = np.array(images)\n",
        "labels = np.array(labels)\n",
        "RGB_images = np.array(RGB_images)\n",
        "labelsR = np.array(labelsR)"
      ],
      "execution_count": 0,
      "outputs": []
    },
    {
      "cell_type": "code",
      "metadata": {
        "id": "I-82tKjgBUlM",
        "colab_type": "code",
        "outputId": "7ae6f064-d4f3-487b-b86e-28999ef75713",
        "colab": {
          "base_uri": "https://localhost:8080/",
          "height": 84
        }
      },
      "source": [
        "labels.reshape( ( -1 , 1 ) )\n",
        "labelsR.reshape( ( -1 , 1 ) )\n",
        "print(images.shape)\n",
        "print(labels.shape)\n",
        "print(RGB_images.shape)\n",
        "print(labelsR.shape)\n"
      ],
      "execution_count": 61,
      "outputs": [
        {
          "output_type": "stream",
          "text": [
            "(2062, 100, 100)\n",
            "(2062,)\n",
            "(2062, 100, 100, 3)\n",
            "(2062,)\n"
          ],
          "name": "stdout"
        }
      ]
    },
    {
      "cell_type": "code",
      "metadata": {
        "id": "OBRFdxMUEVLS",
        "colab_type": "code",
        "colab": {}
      },
      "source": [
        "images = images / 255.0\n",
        "RGB_images = RGB_images / 255.0"
      ],
      "execution_count": 0,
      "outputs": []
    },
    {
      "cell_type": "code",
      "metadata": {
        "id": "dfoDLpOvGFCv",
        "colab_type": "code",
        "colab": {}
      },
      "source": [
        "ratio_train  = int(2062 * ( 60 / 100 ))\n",
        "ratio_test = int(2062 * ( 20 / 100 ))\n",
        "X_Train = images[ 0 : ratio_train  , : ]\n",
        "Y_Train = labels[0 : ratio_train   ]\n",
        "X_test = images[ratio_train : ratio_test + ratio_train , : ]\n",
        "Y_test = labels[ratio_train : ratio_test + ratio_train  ]\n",
        "X_validation = images[ratio_test + ratio_train: , :  ]\n",
        "Y_validation = labels[ratio_test + ratio_train:]\n",
        "\n",
        "\n",
        "\n",
        "\n",
        "X_TrainR = RGB_images[ 0 : ratio_train  , : ]\n",
        "Y_TrainR = labelsR[0 : ratio_train   ]\n",
        "X_testR = RGB_images[ratio_train : ratio_test + ratio_train , : ]\n",
        "Y_testR = labelsR[ratio_train : ratio_test + ratio_train  ]\n",
        "X_validationR = RGB_images[ratio_test + ratio_train: , :  ]\n",
        "Y_validationR = labelsR[ratio_test + ratio_train:]\n",
        "\n",
        "\n",
        "\n"
      ],
      "execution_count": 0,
      "outputs": []
    },
    {
      "cell_type": "code",
      "metadata": {
        "id": "s8S41hvVHR3P",
        "colab_type": "code",
        "outputId": "fd4d65f8-45e7-4400-bdd6-c69b3a4053e3",
        "colab": {
          "base_uri": "https://localhost:8080/",
          "height": 218
        }
      },
      "source": [
        "print(X_Train.shape)\n",
        "print(Y_Train.shape)\n",
        "print(X_test.shape)\n",
        "print(Y_test.shape)\n",
        "print(X_validation.shape)\n",
        "print(Y_validation.shape)\n",
        "\n",
        "\n",
        "\n",
        "print(X_TrainR.shape)\n",
        "print(Y_TrainR.shape)\n",
        "print(X_testR.shape)\n",
        "print(Y_testR.shape)\n",
        "print(X_validationR.shape)\n",
        "print(Y_validationR.shape)\n",
        "\n"
      ],
      "execution_count": 64,
      "outputs": [
        {
          "output_type": "stream",
          "text": [
            "(1237, 100, 100)\n",
            "(1237,)\n",
            "(412, 100, 100)\n",
            "(412,)\n",
            "(413, 100, 100)\n",
            "(413,)\n",
            "(1237, 100, 100, 3)\n",
            "(1237,)\n",
            "(412, 100, 100, 3)\n",
            "(412,)\n",
            "(413, 100, 100, 3)\n",
            "(413,)\n"
          ],
          "name": "stdout"
        }
      ]
    },
    {
      "cell_type": "code",
      "metadata": {
        "id": "1oNXMDKgIXOM",
        "colab_type": "code",
        "outputId": "b07c2658-01ea-47ad-d88f-959b7a552a06",
        "colab": {
          "base_uri": "https://localhost:8080/",
          "height": 1000
        }
      },
      "source": [
        "model1 = Sequential()\n",
        "checkpoint = ModelCheckpoint(filepath='best_weights.hdf5', save_best_only=True, save_weights_only=True)\n",
        "callbacks=[checkpoint]\n",
        "model1.add( Flatten(input_shape = ( 100 , 100 ) ) )\n",
        "model1.add( Dense( 1024  , activation = \"relu\"   ) )\n",
        "model1.add( Dense( 10  , activation = \"softmax\"   ) )\n",
        "model1.compile( optimizer = \"adam\" , loss = \"sparse_categorical_crossentropy\" , metrics =  [\"accuracy\"] )\n",
        "hist1 = model1.fit( X_Train , Y_Train , validation_data = ( X_validation , Y_validation ) , epochs = 50  , callbacks = callbacks )\n",
        "fig , ax=plt.subplots(1,2,figsize=(12,5))\n",
        "ax.ravel()\n",
        "for i, met in enumerate(['accuracy', 'loss']):\n",
        "    ax[i].plot(hist1.history[met])\n",
        "    ax[i].plot(hist1.history['val_' + met])\n",
        "    ax[i].set_title('Model {}'.format(met))\n",
        "    ax[i].set_xlabel('epochs')\n",
        "    ax[i].set_ylabel(met)\n",
        "    ax[i].legend(['train', 'val'])\n",
        "plt.show()\n",
        "model1.evaluate( x = X_test , y = Y_test  , verbose  = 1 )"
      ],
      "execution_count": 66,
      "outputs": [
        {
          "output_type": "stream",
          "text": [
            "Train on 1237 samples, validate on 413 samples\n",
            "Epoch 1/50\n",
            "1237/1237 [==============================] - 3s 3ms/sample - loss: 13.0922 - accuracy: 0.1083 - val_loss: 2.4782 - val_accuracy: 0.1598\n",
            "Epoch 2/50\n",
            "1237/1237 [==============================] - 3s 2ms/sample - loss: 2.2812 - accuracy: 0.1876 - val_loss: 2.1149 - val_accuracy: 0.3245\n",
            "Epoch 3/50\n",
            "1237/1237 [==============================] - 3s 2ms/sample - loss: 2.0324 - accuracy: 0.3007 - val_loss: 1.9291 - val_accuracy: 0.3269\n",
            "Epoch 4/50\n",
            "1237/1237 [==============================] - 3s 2ms/sample - loss: 1.8318 - accuracy: 0.3994 - val_loss: 2.1644 - val_accuracy: 0.3075\n",
            "Epoch 5/50\n",
            "1237/1237 [==============================] - 3s 2ms/sample - loss: 1.8463 - accuracy: 0.3767 - val_loss: 1.7141 - val_accuracy: 0.4649\n",
            "Epoch 6/50\n",
            "1237/1237 [==============================] - 3s 2ms/sample - loss: 1.5557 - accuracy: 0.4972 - val_loss: 1.7647 - val_accuracy: 0.4189\n",
            "Epoch 7/50\n",
            "1237/1237 [==============================] - 3s 2ms/sample - loss: 1.5761 - accuracy: 0.4729 - val_loss: 1.9374 - val_accuracy: 0.3971\n",
            "Epoch 8/50\n",
            "1237/1237 [==============================] - 3s 2ms/sample - loss: 1.4037 - accuracy: 0.5441 - val_loss: 1.4030 - val_accuracy: 0.5763\n",
            "Epoch 9/50\n",
            "1237/1237 [==============================] - 3s 2ms/sample - loss: 1.2066 - accuracy: 0.6451 - val_loss: 1.5475 - val_accuracy: 0.5061\n",
            "Epoch 10/50\n",
            "1237/1237 [==============================] - 3s 2ms/sample - loss: 1.2193 - accuracy: 0.5982 - val_loss: 1.4744 - val_accuracy: 0.4697\n",
            "Epoch 11/50\n",
            "1237/1237 [==============================] - 3s 2ms/sample - loss: 1.1519 - accuracy: 0.6136 - val_loss: 1.3943 - val_accuracy: 0.5521\n",
            "Epoch 12/50\n",
            "1237/1237 [==============================] - 3s 2ms/sample - loss: 1.1128 - accuracy: 0.6346 - val_loss: 1.2817 - val_accuracy: 0.5424\n",
            "Epoch 13/50\n",
            "1237/1237 [==============================] - 3s 2ms/sample - loss: 1.0068 - accuracy: 0.6936 - val_loss: 1.3034 - val_accuracy: 0.5496\n",
            "Epoch 14/50\n",
            "1237/1237 [==============================] - 3s 2ms/sample - loss: 1.0432 - accuracy: 0.6459 - val_loss: 1.1024 - val_accuracy: 0.6465\n",
            "Epoch 15/50\n",
            "1237/1237 [==============================] - 3s 2ms/sample - loss: 0.9728 - accuracy: 0.6960 - val_loss: 1.2009 - val_accuracy: 0.5956\n",
            "Epoch 16/50\n",
            "1237/1237 [==============================] - 3s 2ms/sample - loss: 0.9145 - accuracy: 0.7203 - val_loss: 1.0131 - val_accuracy: 0.6755\n",
            "Epoch 17/50\n",
            "1237/1237 [==============================] - 3s 2ms/sample - loss: 0.9108 - accuracy: 0.6936 - val_loss: 1.2529 - val_accuracy: 0.5956\n",
            "Epoch 18/50\n",
            "1237/1237 [==============================] - 3s 2ms/sample - loss: 0.9599 - accuracy: 0.6750 - val_loss: 0.9923 - val_accuracy: 0.6780\n",
            "Epoch 19/50\n",
            "1237/1237 [==============================] - 3s 2ms/sample - loss: 0.7973 - accuracy: 0.7437 - val_loss: 1.4033 - val_accuracy: 0.5593\n",
            "Epoch 20/50\n",
            "1237/1237 [==============================] - 3s 2ms/sample - loss: 0.8687 - accuracy: 0.7171 - val_loss: 1.0191 - val_accuracy: 0.6562\n",
            "Epoch 21/50\n",
            "1237/1237 [==============================] - 3s 2ms/sample - loss: 0.8335 - accuracy: 0.7316 - val_loss: 0.9955 - val_accuracy: 0.6586\n",
            "Epoch 22/50\n",
            "1237/1237 [==============================] - 3s 2ms/sample - loss: 0.7624 - accuracy: 0.7462 - val_loss: 1.0320 - val_accuracy: 0.6683\n",
            "Epoch 23/50\n",
            "1237/1237 [==============================] - 3s 2ms/sample - loss: 0.7630 - accuracy: 0.7300 - val_loss: 0.9251 - val_accuracy: 0.6877\n",
            "Epoch 24/50\n",
            "1237/1237 [==============================] - 3s 2ms/sample - loss: 0.7251 - accuracy: 0.7599 - val_loss: 1.0511 - val_accuracy: 0.6755\n",
            "Epoch 25/50\n",
            "1237/1237 [==============================] - 3s 2ms/sample - loss: 0.7156 - accuracy: 0.7518 - val_loss: 0.9333 - val_accuracy: 0.6828\n",
            "Epoch 26/50\n",
            "1237/1237 [==============================] - 3s 2ms/sample - loss: 0.6431 - accuracy: 0.8003 - val_loss: 0.9125 - val_accuracy: 0.7022\n",
            "Epoch 27/50\n",
            "1237/1237 [==============================] - 3s 2ms/sample - loss: 0.7118 - accuracy: 0.7672 - val_loss: 0.9955 - val_accuracy: 0.6586\n",
            "Epoch 28/50\n",
            "1237/1237 [==============================] - 3s 2ms/sample - loss: 0.7571 - accuracy: 0.7534 - val_loss: 1.0172 - val_accuracy: 0.6489\n",
            "Epoch 29/50\n",
            "1237/1237 [==============================] - 3s 2ms/sample - loss: 0.6148 - accuracy: 0.8100 - val_loss: 0.9145 - val_accuracy: 0.6973\n",
            "Epoch 30/50\n",
            "1237/1237 [==============================] - 3s 2ms/sample - loss: 0.5443 - accuracy: 0.8367 - val_loss: 0.8635 - val_accuracy: 0.7143\n",
            "Epoch 31/50\n",
            "1237/1237 [==============================] - 3s 2ms/sample - loss: 0.5836 - accuracy: 0.8052 - val_loss: 0.9226 - val_accuracy: 0.6755\n",
            "Epoch 32/50\n",
            "1237/1237 [==============================] - 3s 2ms/sample - loss: 0.5597 - accuracy: 0.8213 - val_loss: 0.9874 - val_accuracy: 0.6852\n",
            "Epoch 33/50\n",
            "1237/1237 [==============================] - 3s 2ms/sample - loss: 0.5783 - accuracy: 0.8011 - val_loss: 0.9232 - val_accuracy: 0.6877\n",
            "Epoch 34/50\n",
            "1237/1237 [==============================] - 3s 2ms/sample - loss: 0.6352 - accuracy: 0.7898 - val_loss: 1.0953 - val_accuracy: 0.6538\n",
            "Epoch 35/50\n",
            "1237/1237 [==============================] - 3s 2ms/sample - loss: 0.6479 - accuracy: 0.7761 - val_loss: 0.9783 - val_accuracy: 0.6538\n",
            "Epoch 36/50\n",
            "1237/1237 [==============================] - 3s 2ms/sample - loss: 0.5933 - accuracy: 0.8068 - val_loss: 0.9575 - val_accuracy: 0.6755\n",
            "Epoch 37/50\n",
            "1237/1237 [==============================] - 3s 2ms/sample - loss: 0.5734 - accuracy: 0.8044 - val_loss: 0.8420 - val_accuracy: 0.7409\n",
            "Epoch 38/50\n",
            "1237/1237 [==============================] - 3s 2ms/sample - loss: 0.5773 - accuracy: 0.8124 - val_loss: 1.0149 - val_accuracy: 0.6804\n",
            "Epoch 39/50\n",
            "1237/1237 [==============================] - 3s 2ms/sample - loss: 0.5470 - accuracy: 0.8141 - val_loss: 1.0449 - val_accuracy: 0.6513\n",
            "Epoch 40/50\n",
            "1237/1237 [==============================] - 3s 2ms/sample - loss: 0.5496 - accuracy: 0.8254 - val_loss: 1.0239 - val_accuracy: 0.6441\n",
            "Epoch 41/50\n",
            "1237/1237 [==============================] - 3s 2ms/sample - loss: 0.4689 - accuracy: 0.8432 - val_loss: 0.9222 - val_accuracy: 0.6852\n",
            "Epoch 42/50\n",
            "1237/1237 [==============================] - 3s 2ms/sample - loss: 0.5328 - accuracy: 0.8141 - val_loss: 1.0747 - val_accuracy: 0.6344\n",
            "Epoch 43/50\n",
            "1237/1237 [==============================] - 3s 2ms/sample - loss: 0.4936 - accuracy: 0.8367 - val_loss: 0.8080 - val_accuracy: 0.7506\n",
            "Epoch 44/50\n",
            "1237/1237 [==============================] - 3s 2ms/sample - loss: 0.4297 - accuracy: 0.8763 - val_loss: 0.8368 - val_accuracy: 0.7337\n",
            "Epoch 45/50\n",
            "1237/1237 [==============================] - 3s 2ms/sample - loss: 0.4802 - accuracy: 0.8351 - val_loss: 0.8363 - val_accuracy: 0.7240\n",
            "Epoch 46/50\n",
            "1237/1237 [==============================] - 3s 2ms/sample - loss: 0.4738 - accuracy: 0.8424 - val_loss: 0.7423 - val_accuracy: 0.7627\n",
            "Epoch 47/50\n",
            "1237/1237 [==============================] - 3s 2ms/sample - loss: 0.3761 - accuracy: 0.8901 - val_loss: 0.7445 - val_accuracy: 0.7700\n",
            "Epoch 48/50\n",
            "1237/1237 [==============================] - 3s 2ms/sample - loss: 0.3891 - accuracy: 0.8723 - val_loss: 1.0733 - val_accuracy: 0.6562\n",
            "Epoch 49/50\n",
            "1237/1237 [==============================] - 3s 2ms/sample - loss: 0.4658 - accuracy: 0.8319 - val_loss: 1.1357 - val_accuracy: 0.6441\n",
            "Epoch 50/50\n",
            "1237/1237 [==============================] - 3s 2ms/sample - loss: 0.3803 - accuracy: 0.8739 - val_loss: 0.8518 - val_accuracy: 0.7312\n"
          ],
          "name": "stdout"
        },
        {
          "output_type": "display_data",
          "data": {
            "image/png": "[encoded data removed]",
            "text/plain": [
              "<Figure size 864x360 with 2 Axes>"
            ]
          },
          "metadata": {
            "tags": []
          }
        },
        {
          "output_type": "stream",
          "text": [
            "\r412/1 [========================================================================================================================================================================================================================================================================================================================================================================================================================================================================================================================================================================================================================================================================================================================================================================================================================================================================================================================================================================================================================================================================================================================================================================================================================================================================================================================================================================================================================================================================================================================================================================================================================================================================================================================================================================================================================================================================================================================================================================================================================================================================================================================================================================================================================================================================================================================================================================================================================================================================================================================================================================================================================================================================================================================================================================================================================================================================================================================================================================================================================================================================================================================================================================================================================================================================================================================================================================================================================================================================================================================================================================================================================================================================================================================================================================================================================================================================================================================================================================================================================================================================================================================================================================================================================================================================================================================================================================================================================================================================================================================================================================================================================================================================================================================================================================================================================================================================================================================================================================================================================================================================================================================================================================================================================================================================================================================================================================================================================================================================================================================================================================================================================================================================================================================================================================================================================================================================================================================================================================================================================================================================================================================================================================================================================================================================================================================================================================================================================================================================================================================================================================================================================================================================================================================================================================================================================================================================================================================================================================================================================================================================================================================================================================================================================================================================================================================================================================================================================================================================================================================================================================================================================================================================================================================================================================================================================================================================================================================================================================================================================================================================================================================================================================================================================================================================================================================================================================================================================================================================================================================================================================================================================================================================================================================================================================================================================================================================================================================================================================================================================================================================================================================================================================================================================================================================================================================================================================================================================================================================================================================================================================================================================================================================================================================================================================================================================================================================================================================================================================================================================================================================================================================================================================================================================================================================================================================================================================================================================================================================================================================================================================================================================================================================================================================================================================================================================================================================================================================================================================================================================================================================================================================================================================================================================================================================================================================================================================================================================================================================================================================================================================================================================================================================================================================================================================================================================================================================================================================================================================================================================================================================================================================================================================================================================================================================================================================================================================================================================================================================================================================================================================================================================================================================================================================================================================================================================================================================] - 0s 661us/sample - loss: 0.8479 - accuracy: 0.7718\n"
          ],
          "name": "stdout"
        },
        {
          "output_type": "execute_result",
          "data": {
            "text/plain": [
              "[0.8463471751768612, 0.7718447]"
            ]
          },
          "metadata": {
            "tags": []
          },
          "execution_count": 66
        }
      ]
    },
    {
      "cell_type": "code",
      "metadata": {
        "id": "F0abwFoDMNVx",
        "colab_type": "code",
        "colab": {}
      },
      "source": [
        "model2 = Sequential()\n",
        "\n",
        "checkpoint = ModelCheckpoint(filepath='best_weights.hdf5', save_best_only=True, save_weights_only=True)\n",
        "callbacks=[checkpoint]\n",
        "model2.add( Flatten(input_shape = ( 100 , 100 ) ) )\n",
        "model2.add( Dense( 512  , activation = \"relu\"   ) )\n",
        "model2.add( Dense( 512  , activation = \"relu\"   ) )\n",
        "model2.add( Dense( 10  , activation = \"softmax\"   ) )\n",
        "model2.compile( optimizer = \"adam\" , loss = \"sparse_categorical_crossentropy\" , metrics =  [\"accuracy\"] )\n",
        "hist2 = model2.fit( X_Train , Y_Train , validation_data = ( X_validation , Y_validation ) , epochs = 50  ,callbacks = callbacks )\n",
        "fig , ax=plt.subplots(1,2,figsize=(12,5))\n",
        "ax.ravel()\n",
        "for i, met in enumerate(['acc', 'loss']):\n",
        "    ax[i].plot(hist2.history[met])\n",
        "    ax[i].plot(hist2.history['val_' + met])\n",
        "    ax[i].set_title('Model {}'.format(met))\n",
        "    ax[i].set_xlabel('epochs')\n",
        "    ax[i].set_ylabel(met)\n",
        "    ax[i].legend(['train', 'val'])\n",
        "plt.show()\n",
        "model2.evaluate( x = X_test , y = Y_test  , verbose  = 1 )"
      ],
      "execution_count": 0,
      "outputs": []
    },
    {
      "cell_type": "code",
      "metadata": {
        "id": "MpKuE5oJThUp",
        "colab_type": "code",
        "colab": {}
      },
      "source": [
        "model3 = Sequential()\n",
        "\n",
        "checkpoint = ModelCheckpoint(filepath='best_weights.hdf5', save_best_only=True, save_weights_only=True)\n",
        "callbacks=[checkpoint]\n",
        "model3.add( Flatten(input_shape = ( 100 , 100 ) ) )\n",
        "model3.add( Dense( 512  , activation = \"relu\"   ) )\n",
        "model3.add( Dense( 256  , activation = \"relu\"   ) )\n",
        "model3.add( Dense( 64  , activation = \"relu\"   ) )\n",
        "model3.add( Dense( 10  , activation = \"softmax\"   ) )\n",
        "model3.compile( optimizer = \"adam\" , loss = \"sparse_categorical_crossentropy\" , metrics =  [\"accuracy\"] )\n",
        "hist3 = model3.fit( X_Train , Y_Train , validation_data = ( X_validation , Y_validation ) , epochs = 100  , callbacks = callbacks )\n",
        "fig , ax=plt.subplots(1,2,figsize=(12,5))\n",
        "ax.ravel()\n",
        "for i, met in enumerate(['accuracy', 'loss']):\n",
        "    ax[i].plot(hist3.history[met])\n",
        "    ax[i].plot(hist3.history['val_' + met])\n",
        "    ax[i].set_title('Model {}'.format(met))\n",
        "    ax[i].set_xlabel('epochs')\n",
        "    ax[i].set_ylabel(met)\n",
        "    ax[i].legend(['train', 'val'])\n",
        "plt.show()\n",
        "model3.evaluate( x = X_test , y = Y_test  , verbose  = 1 )"
      ],
      "execution_count": 0,
      "outputs": []
    },
    {
      "cell_type": "code",
      "metadata": {
        "id": "P-fndvmNUysD",
        "colab_type": "code",
        "colab": {}
      },
      "source": [
        "model4 = Sequential()\n",
        "checkpoint = ModelCheckpoint(filepath='best_weights.hdf5', save_best_only=True, save_weights_only=True)\n",
        "callbacks=[checkpoint]\n",
        "model4.add( Flatten(input_shape = ( 100 , 100 ) ) )\n",
        "model4.add( Dense( 512  , activation = \"relu\"   ) )\n",
        "model4.add( Dense( 256  , activation = \"relu\"   ) )\n",
        "model4.add( Dense( 128  , activation = \"relu\"   ) )\n",
        "model4.add( Dense( 64  , activation = \"relu\"   ) )\n",
        "model4.add( Dense( 10  , activation = \"softmax\"   ) )\n",
        "model4.compile( optimizer = \"adam\" , loss = \"sparse_categorical_crossentropy\" , metrics =  [\"accuracy\"] , callbacks = callbacks )\n",
        "hist4 = model4.fit( X_Train , Y_Train , validation_data = ( X_validation , Y_validation ) , epochs = 50  )\n",
        "fig , ax=plt.subplots(1,2,figsize=(12,5))\n",
        "ax.ravel()\n",
        "for i, met in enumerate(['accuracy', 'loss']):\n",
        "    ax[i].plot(hist4.history[met])\n",
        "    ax[i].plot(hist4.history['val_' + met])\n",
        "    ax[i].set_title('Model {}'.format(met))\n",
        "    ax[i].set_xlabel('epochs')\n",
        "    ax[i].set_ylabel(met)\n",
        "    ax[i].legend(['train', 'val'])\n",
        "plt.show()\n",
        "model4.evaluate( x = X_test , y = Y_test  , verbose  = 1 )"
      ],
      "execution_count": 0,
      "outputs": []
    },
    {
      "cell_type": "code",
      "metadata": {
        "id": "UAz_aISHV8p2",
        "colab_type": "code",
        "colab": {}
      },
      "source": [
        "#CNN MODEL"
      ],
      "execution_count": 0,
      "outputs": []
    },
    {
      "cell_type": "code",
      "metadata": {
        "id": "Ze-TRdJmWwP7",
        "colab_type": "code",
        "colab": {
          "base_uri": "https://localhost:8080/",
          "height": 1000
        },
        "outputId": "a6b48c45-39af-43a7-c960-5fe81fe9d275"
      },
      "source": [
        "model_1_CNN = tf.keras.models.Sequential()\n",
        "checkpoint = ModelCheckpoint(filepath='best_weights.hdf5', save_best_only=True, save_weights_only=True)\n",
        "callbacks=[checkpoint]\n",
        "model_1_CNN.add( tf.keras.layers.Conv2D ( 64 , kernel_size = ( 4 , 4 ) , strides = (2,2) , padding='same',activation = 'tanh' )   )\n",
        "model_1_CNN.add( tf.keras.layers.MaxPool2D( pool_size = ( 4 , 4 ) )  )\n",
        "model_1_CNN.add( tf.keras.layers.Conv2D ( 16 , kernel_size = ( 4  , 4 ) , strides = (1,1), padding = 'same',activation = 'tanh' )   )\n",
        "model_1_CNN.add( tf.keras.layers.MaxPool2D( pool_size = ( 4 , 4 ) )  )\n",
        "model_1_CNN.add( tf.keras.layers.Flatten( ) )\n",
        "model_1_CNN.add(tf.keras.layers.Dropout( 0.2 ) )\n",
        "model_1_CNN.add( tf.keras.layers.Dense( 64  , activation = \"relu\"   ) )\n",
        "model_1_CNN.add(tf.keras.layers.Dropout( 0.2 ) )\n",
        "model_1_CNN.add( tf.keras.layers.Dense( 128  , activation = \"relu\"   ) )\n",
        "model_1_CNN.add(tf.keras.layers.Dropout( 0.2 ) )\n",
        "model_1_CNN.add( tf.keras.layers.Dense( 10  , activation = \"softmax\"   ) )\n",
        "model_1_CNN.compile( optimizer = \"adam\" , loss = \"sparse_categorical_crossentropy\" , metrics =  [\"accuracy\"] , callbacks = callbacks )\n",
        "hist5 = model_1_CNN.fit( X_TrainR , Y_TrainR , validation_data = ( X_validationR , Y_validationR ) , epochs = 100   )\n",
        "fig , ax=plt.subplots(1,2,figsize=(12,5))\n",
        "ax.ravel()\n",
        "for i, met in enumerate(['accuracy', 'loss']):\n",
        "    ax[i].plot(hist5.history[met])\n",
        "    ax[i].plot(hist5.history['val_' + met])\n",
        "    ax[i].set_title('Model {}'.format(met))\n",
        "    ax[i].set_xlabel('epochs')\n",
        "    ax[i].set_ylabel(met)\n",
        "    ax[i].legend(['train', 'val'])\n",
        "plt.show()\n",
        "model_1_CNN.evaluate( x = X_testR , y = Y_testR  , verbose  = 1 )"
      ],
      "execution_count": 71,
      "outputs": [
        {
          "output_type": "stream",
          "text": [
            "Train on 1237 samples, validate on 413 samples\n",
            "Epoch 1/100\n",
            "1237/1237 [==============================] - 5s 4ms/sample - loss: 2.3206 - accuracy: 0.1002 - val_loss: 2.2864 - val_accuracy: 0.1719\n",
            "Epoch 2/100\n",
            "1237/1237 [==============================] - 5s 4ms/sample - loss: 2.2691 - accuracy: 0.1447 - val_loss: 2.2193 - val_accuracy: 0.1017\n",
            "Epoch 3/100\n",
            "1237/1237 [==============================] - 5s 4ms/sample - loss: 2.0236 - accuracy: 0.2765 - val_loss: 1.5806 - val_accuracy: 0.4818\n",
            "Epoch 4/100\n",
            "1237/1237 [==============================] - 5s 4ms/sample - loss: 1.4425 - accuracy: 0.4899 - val_loss: 0.8873 - val_accuracy: 0.7700\n",
            "Epoch 5/100\n",
            "1237/1237 [==============================] - 5s 4ms/sample - loss: 1.0229 - accuracy: 0.6265 - val_loss: 0.6262 - val_accuracy: 0.8305\n",
            "Epoch 6/100\n",
            "1237/1237 [==============================] - 5s 4ms/sample - loss: 0.7704 - accuracy: 0.7421 - val_loss: 0.4450 - val_accuracy: 0.8910\n",
            "Epoch 7/100\n",
            "1237/1237 [==============================] - 5s 4ms/sample - loss: 0.6619 - accuracy: 0.7688 - val_loss: 0.3341 - val_accuracy: 0.9056\n",
            "Epoch 8/100\n",
            "1237/1237 [==============================] - 5s 4ms/sample - loss: 0.5823 - accuracy: 0.7930 - val_loss: 0.3442 - val_accuracy: 0.8838\n",
            "Epoch 9/100\n",
            "1237/1237 [==============================] - 5s 4ms/sample - loss: 0.4854 - accuracy: 0.8407 - val_loss: 0.2984 - val_accuracy: 0.9274\n",
            "Epoch 10/100\n",
            "1237/1237 [==============================] - 5s 4ms/sample - loss: 0.4494 - accuracy: 0.8545 - val_loss: 0.3410 - val_accuracy: 0.8814\n",
            "Epoch 11/100\n",
            "1237/1237 [==============================] - 5s 4ms/sample - loss: 0.3999 - accuracy: 0.8593 - val_loss: 0.2442 - val_accuracy: 0.9419\n",
            "Epoch 12/100\n",
            "1237/1237 [==============================] - 5s 4ms/sample - loss: 0.3687 - accuracy: 0.8852 - val_loss: 0.2528 - val_accuracy: 0.9201\n",
            "Epoch 13/100\n",
            "1237/1237 [==============================] - 5s 4ms/sample - loss: 0.3649 - accuracy: 0.8731 - val_loss: 0.2205 - val_accuracy: 0.9419\n",
            "Epoch 14/100\n",
            "1237/1237 [==============================] - 5s 4ms/sample - loss: 0.3480 - accuracy: 0.8836 - val_loss: 0.2386 - val_accuracy: 0.9419\n",
            "Epoch 15/100\n",
            "1237/1237 [==============================] - 5s 4ms/sample - loss: 0.3092 - accuracy: 0.8933 - val_loss: 0.1980 - val_accuracy: 0.9613\n",
            "Epoch 16/100\n",
            "1237/1237 [==============================] - 5s 4ms/sample - loss: 0.3008 - accuracy: 0.8941 - val_loss: 0.2146 - val_accuracy: 0.9419\n",
            "Epoch 17/100\n",
            "1237/1237 [==============================] - 5s 4ms/sample - loss: 0.2916 - accuracy: 0.9006 - val_loss: 0.2120 - val_accuracy: 0.9443\n",
            "Epoch 18/100\n",
            "1237/1237 [==============================] - 5s 4ms/sample - loss: 0.2322 - accuracy: 0.9224 - val_loss: 0.1960 - val_accuracy: 0.9540\n",
            "Epoch 19/100\n",
            "1237/1237 [==============================] - 5s 4ms/sample - loss: 0.2297 - accuracy: 0.9143 - val_loss: 0.2188 - val_accuracy: 0.9467\n",
            "Epoch 20/100\n",
            "1237/1237 [==============================] - 5s 4ms/sample - loss: 0.2099 - accuracy: 0.9337 - val_loss: 0.1816 - val_accuracy: 0.9492\n",
            "Epoch 21/100\n",
            "1237/1237 [==============================] - 5s 4ms/sample - loss: 0.2049 - accuracy: 0.9289 - val_loss: 0.1743 - val_accuracy: 0.9637\n",
            "Epoch 22/100\n",
            "1237/1237 [==============================] - 5s 4ms/sample - loss: 0.1661 - accuracy: 0.9410 - val_loss: 0.1758 - val_accuracy: 0.9613\n",
            "Epoch 23/100\n",
            "1237/1237 [==============================] - 5s 4ms/sample - loss: 0.1884 - accuracy: 0.9345 - val_loss: 0.1827 - val_accuracy: 0.9613\n",
            "Epoch 24/100\n",
            "1237/1237 [==============================] - 5s 4ms/sample - loss: 0.1570 - accuracy: 0.9531 - val_loss: 0.1623 - val_accuracy: 0.9685\n",
            "Epoch 25/100\n",
            "1237/1237 [==============================] - 5s 4ms/sample - loss: 0.1664 - accuracy: 0.9402 - val_loss: 0.1693 - val_accuracy: 0.9637\n",
            "Epoch 26/100\n",
            "1237/1237 [==============================] - 5s 4ms/sample - loss: 0.1371 - accuracy: 0.9572 - val_loss: 0.1894 - val_accuracy: 0.9516\n",
            "Epoch 27/100\n",
            "1237/1237 [==============================] - 5s 4ms/sample - loss: 0.1863 - accuracy: 0.9361 - val_loss: 0.1754 - val_accuracy: 0.9588\n",
            "Epoch 28/100\n",
            "1237/1237 [==============================] - 5s 4ms/sample - loss: 0.1632 - accuracy: 0.9507 - val_loss: 0.1687 - val_accuracy: 0.9564\n",
            "Epoch 29/100\n",
            "1237/1237 [==============================] - 5s 4ms/sample - loss: 0.1385 - accuracy: 0.9507 - val_loss: 0.1474 - val_accuracy: 0.9709\n",
            "Epoch 30/100\n",
            "1237/1237 [==============================] - 5s 4ms/sample - loss: 0.1165 - accuracy: 0.9620 - val_loss: 0.1490 - val_accuracy: 0.9685\n",
            "Epoch 31/100\n",
            "1237/1237 [==============================] - 5s 4ms/sample - loss: 0.1300 - accuracy: 0.9515 - val_loss: 0.2085 - val_accuracy: 0.9588\n",
            "Epoch 32/100\n",
            "1237/1237 [==============================] - 5s 4ms/sample - loss: 0.1373 - accuracy: 0.9475 - val_loss: 0.1546 - val_accuracy: 0.9637\n",
            "Epoch 33/100\n",
            "1237/1237 [==============================] - 5s 4ms/sample - loss: 0.1239 - accuracy: 0.9596 - val_loss: 0.1734 - val_accuracy: 0.9637\n",
            "Epoch 34/100\n",
            "1237/1237 [==============================] - 5s 4ms/sample - loss: 0.0870 - accuracy: 0.9741 - val_loss: 0.1556 - val_accuracy: 0.9709\n",
            "Epoch 35/100\n",
            "1237/1237 [==============================] - 5s 4ms/sample - loss: 0.0988 - accuracy: 0.9757 - val_loss: 0.1640 - val_accuracy: 0.9661\n",
            "Epoch 36/100\n",
            "1237/1237 [==============================] - 5s 4ms/sample - loss: 0.1160 - accuracy: 0.9563 - val_loss: 0.1718 - val_accuracy: 0.9661\n",
            "Epoch 37/100\n",
            "1237/1237 [==============================] - 5s 4ms/sample - loss: 0.1094 - accuracy: 0.9604 - val_loss: 0.1514 - val_accuracy: 0.9637\n",
            "Epoch 38/100\n",
            "1237/1237 [==============================] - 5s 4ms/sample - loss: 0.0997 - accuracy: 0.9652 - val_loss: 0.1522 - val_accuracy: 0.9637\n",
            "Epoch 39/100\n",
            "1237/1237 [==============================] - 5s 4ms/sample - loss: 0.1122 - accuracy: 0.9604 - val_loss: 0.1714 - val_accuracy: 0.9588\n",
            "Epoch 40/100\n",
            "1237/1237 [==============================] - 5s 4ms/sample - loss: 0.1121 - accuracy: 0.9604 - val_loss: 0.1479 - val_accuracy: 0.9637\n",
            "Epoch 41/100\n",
            "1237/1237 [==============================] - 5s 4ms/sample - loss: 0.1025 - accuracy: 0.9644 - val_loss: 0.1757 - val_accuracy: 0.9661\n",
            "Epoch 42/100\n",
            "1237/1237 [==============================] - 5s 4ms/sample - loss: 0.1087 - accuracy: 0.9669 - val_loss: 0.1612 - val_accuracy: 0.9588\n",
            "Epoch 43/100\n",
            "1237/1237 [==============================] - 5s 4ms/sample - loss: 0.1050 - accuracy: 0.9685 - val_loss: 0.1383 - val_accuracy: 0.9709\n",
            "Epoch 44/100\n",
            "1237/1237 [==============================] - 5s 4ms/sample - loss: 0.0943 - accuracy: 0.9717 - val_loss: 0.1622 - val_accuracy: 0.9661\n",
            "Epoch 45/100\n",
            "1237/1237 [==============================] - 5s 4ms/sample - loss: 0.0897 - accuracy: 0.9644 - val_loss: 0.1730 - val_accuracy: 0.9637\n",
            "Epoch 46/100\n",
            "1237/1237 [==============================] - 5s 4ms/sample - loss: 0.0686 - accuracy: 0.9709 - val_loss: 0.1580 - val_accuracy: 0.9685\n",
            "Epoch 47/100\n",
            "1237/1237 [==============================] - 5s 4ms/sample - loss: 0.0653 - accuracy: 0.9733 - val_loss: 0.1641 - val_accuracy: 0.9613\n",
            "Epoch 48/100\n",
            "1237/1237 [==============================] - 5s 4ms/sample - loss: 0.0649 - accuracy: 0.9749 - val_loss: 0.1524 - val_accuracy: 0.9709\n",
            "Epoch 49/100\n",
            "1237/1237 [==============================] - 5s 4ms/sample - loss: 0.0782 - accuracy: 0.9701 - val_loss: 0.1623 - val_accuracy: 0.9709\n",
            "Epoch 50/100\n",
            "1237/1237 [==============================] - 5s 4ms/sample - loss: 0.0740 - accuracy: 0.9766 - val_loss: 0.1560 - val_accuracy: 0.9758\n",
            "Epoch 51/100\n",
            "1237/1237 [==============================] - 5s 4ms/sample - loss: 0.0733 - accuracy: 0.9766 - val_loss: 0.1666 - val_accuracy: 0.9613\n",
            "Epoch 52/100\n",
            "1237/1237 [==============================] - 5s 4ms/sample - loss: 0.0780 - accuracy: 0.9701 - val_loss: 0.1715 - val_accuracy: 0.9613\n",
            "Epoch 53/100\n",
            "1237/1237 [==============================] - 5s 4ms/sample - loss: 0.0699 - accuracy: 0.9749 - val_loss: 0.1491 - val_accuracy: 0.9685\n",
            "Epoch 54/100\n",
            "1237/1237 [==============================] - 5s 4ms/sample - loss: 0.0740 - accuracy: 0.9749 - val_loss: 0.1594 - val_accuracy: 0.9734\n",
            "Epoch 55/100\n",
            "1237/1237 [==============================] - 5s 4ms/sample - loss: 0.0874 - accuracy: 0.9733 - val_loss: 0.1354 - val_accuracy: 0.9685\n",
            "Epoch 56/100\n",
            "1237/1237 [==============================] - 5s 4ms/sample - loss: 0.0724 - accuracy: 0.9741 - val_loss: 0.1437 - val_accuracy: 0.9709\n",
            "Epoch 57/100\n",
            "1237/1237 [==============================] - 5s 4ms/sample - loss: 0.0823 - accuracy: 0.9757 - val_loss: 0.1757 - val_accuracy: 0.9661\n",
            "Epoch 58/100\n",
            "1237/1237 [==============================] - 5s 4ms/sample - loss: 0.0928 - accuracy: 0.9652 - val_loss: 0.1467 - val_accuracy: 0.9685\n",
            "Epoch 59/100\n",
            "1237/1237 [==============================] - 5s 4ms/sample - loss: 0.0589 - accuracy: 0.9814 - val_loss: 0.1546 - val_accuracy: 0.9685\n",
            "Epoch 60/100\n",
            "1237/1237 [==============================] - 5s 4ms/sample - loss: 0.0660 - accuracy: 0.9790 - val_loss: 0.1342 - val_accuracy: 0.9758\n",
            "Epoch 61/100\n",
            "1237/1237 [==============================] - 5s 4ms/sample - loss: 0.0351 - accuracy: 0.9927 - val_loss: 0.1454 - val_accuracy: 0.9806\n",
            "Epoch 62/100\n",
            "1237/1237 [==============================] - 5s 4ms/sample - loss: 0.0442 - accuracy: 0.9871 - val_loss: 0.1883 - val_accuracy: 0.9588\n",
            "Epoch 63/100\n",
            "1237/1237 [==============================] - 5s 4ms/sample - loss: 0.0618 - accuracy: 0.9774 - val_loss: 0.1568 - val_accuracy: 0.9685\n",
            "Epoch 64/100\n",
            "1237/1237 [==============================] - 5s 4ms/sample - loss: 0.0559 - accuracy: 0.9774 - val_loss: 0.1516 - val_accuracy: 0.9637\n",
            "Epoch 65/100\n",
            "1237/1237 [==============================] - 5s 4ms/sample - loss: 0.0635 - accuracy: 0.9806 - val_loss: 0.1638 - val_accuracy: 0.9782\n",
            "Epoch 66/100\n",
            "1237/1237 [==============================] - 5s 4ms/sample - loss: 0.0529 - accuracy: 0.9798 - val_loss: 0.2143 - val_accuracy: 0.9467\n",
            "Epoch 67/100\n",
            "1237/1237 [==============================] - 5s 4ms/sample - loss: 0.0745 - accuracy: 0.9701 - val_loss: 0.1776 - val_accuracy: 0.9540\n",
            "Epoch 68/100\n",
            "1237/1237 [==============================] - 5s 4ms/sample - loss: 0.0479 - accuracy: 0.9798 - val_loss: 0.1494 - val_accuracy: 0.9758\n",
            "Epoch 69/100\n",
            "1237/1237 [==============================] - 5s 4ms/sample - loss: 0.0646 - accuracy: 0.9757 - val_loss: 0.1685 - val_accuracy: 0.9613\n",
            "Epoch 70/100\n",
            "1237/1237 [==============================] - 5s 4ms/sample - loss: 0.0483 - accuracy: 0.9822 - val_loss: 0.1247 - val_accuracy: 0.9734\n",
            "Epoch 71/100\n",
            "1237/1237 [==============================] - 5s 4ms/sample - loss: 0.0508 - accuracy: 0.9830 - val_loss: 0.1426 - val_accuracy: 0.9685\n",
            "Epoch 72/100\n",
            "1237/1237 [==============================] - 5s 4ms/sample - loss: 0.0469 - accuracy: 0.9846 - val_loss: 0.1490 - val_accuracy: 0.9685\n",
            "Epoch 73/100\n",
            "1237/1237 [==============================] - 5s 4ms/sample - loss: 0.0433 - accuracy: 0.9838 - val_loss: 0.2194 - val_accuracy: 0.9492\n",
            "Epoch 74/100\n",
            "1237/1237 [==============================] - 5s 4ms/sample - loss: 0.0585 - accuracy: 0.9757 - val_loss: 0.1942 - val_accuracy: 0.9564\n",
            "Epoch 75/100\n",
            "1237/1237 [==============================] - 5s 4ms/sample - loss: 0.0528 - accuracy: 0.9806 - val_loss: 0.1480 - val_accuracy: 0.9734\n",
            "Epoch 76/100\n",
            "1237/1237 [==============================] - 5s 4ms/sample - loss: 0.0504 - accuracy: 0.9814 - val_loss: 0.1717 - val_accuracy: 0.9709\n",
            "Epoch 77/100\n",
            "1237/1237 [==============================] - 5s 4ms/sample - loss: 0.0328 - accuracy: 0.9895 - val_loss: 0.1817 - val_accuracy: 0.9685\n",
            "Epoch 78/100\n",
            "1237/1237 [==============================] - 5s 4ms/sample - loss: 0.0550 - accuracy: 0.9798 - val_loss: 0.1700 - val_accuracy: 0.9709\n",
            "Epoch 79/100\n",
            "1237/1237 [==============================] - 5s 4ms/sample - loss: 0.0549 - accuracy: 0.9854 - val_loss: 0.1506 - val_accuracy: 0.9734\n",
            "Epoch 80/100\n",
            "1237/1237 [==============================] - 5s 4ms/sample - loss: 0.0706 - accuracy: 0.9782 - val_loss: 0.1421 - val_accuracy: 0.9782\n",
            "Epoch 81/100\n",
            "1237/1237 [==============================] - 5s 4ms/sample - loss: 0.0937 - accuracy: 0.9701 - val_loss: 0.1785 - val_accuracy: 0.9734\n",
            "Epoch 82/100\n",
            "1237/1237 [==============================] - 5s 4ms/sample - loss: 0.0680 - accuracy: 0.9790 - val_loss: 0.1788 - val_accuracy: 0.9685\n",
            "Epoch 83/100\n",
            "1237/1237 [==============================] - 5s 4ms/sample - loss: 0.0660 - accuracy: 0.9774 - val_loss: 0.1592 - val_accuracy: 0.9734\n",
            "Epoch 84/100\n",
            "1237/1237 [==============================] - 5s 4ms/sample - loss: 0.0504 - accuracy: 0.9830 - val_loss: 0.1958 - val_accuracy: 0.9588\n",
            "Epoch 85/100\n",
            "1237/1237 [==============================] - 5s 4ms/sample - loss: 0.0408 - accuracy: 0.9838 - val_loss: 0.1574 - val_accuracy: 0.9709\n",
            "Epoch 86/100\n",
            "1237/1237 [==============================] - 5s 4ms/sample - loss: 0.0580 - accuracy: 0.9863 - val_loss: 0.1452 - val_accuracy: 0.9685\n",
            "Epoch 87/100\n",
            "1237/1237 [==============================] - 5s 4ms/sample - loss: 0.0284 - accuracy: 0.9919 - val_loss: 0.1735 - val_accuracy: 0.9758\n",
            "Epoch 88/100\n",
            "1237/1237 [==============================] - 5s 4ms/sample - loss: 0.0412 - accuracy: 0.9879 - val_loss: 0.1619 - val_accuracy: 0.9734\n",
            "Epoch 89/100\n",
            "1237/1237 [==============================] - 5s 4ms/sample - loss: 0.0450 - accuracy: 0.9854 - val_loss: 0.1578 - val_accuracy: 0.9685\n",
            "Epoch 90/100\n",
            "1237/1237 [==============================] - 5s 4ms/sample - loss: 0.0295 - accuracy: 0.9919 - val_loss: 0.1528 - val_accuracy: 0.9661\n",
            "Epoch 91/100\n",
            "1237/1237 [==============================] - 5s 4ms/sample - loss: 0.0417 - accuracy: 0.9838 - val_loss: 0.1416 - val_accuracy: 0.9685\n",
            "Epoch 92/100\n",
            "1237/1237 [==============================] - 5s 4ms/sample - loss: 0.0449 - accuracy: 0.9854 - val_loss: 0.1783 - val_accuracy: 0.9661\n",
            "Epoch 93/100\n",
            "1237/1237 [==============================] - 5s 4ms/sample - loss: 0.0342 - accuracy: 0.9919 - val_loss: 0.1836 - val_accuracy: 0.9709\n",
            "Epoch 94/100\n",
            "1237/1237 [==============================] - 5s 4ms/sample - loss: 0.0407 - accuracy: 0.9830 - val_loss: 0.2043 - val_accuracy: 0.9661\n",
            "Epoch 95/100\n",
            "1237/1237 [==============================] - 5s 4ms/sample - loss: 0.0361 - accuracy: 0.9871 - val_loss: 0.1796 - val_accuracy: 0.9709\n",
            "Epoch 96/100\n",
            "1237/1237 [==============================] - 5s 4ms/sample - loss: 0.0318 - accuracy: 0.9854 - val_loss: 0.2353 - val_accuracy: 0.9613\n",
            "Epoch 97/100\n",
            "1237/1237 [==============================] - 5s 4ms/sample - loss: 0.0394 - accuracy: 0.9879 - val_loss: 0.1624 - val_accuracy: 0.9709\n",
            "Epoch 98/100\n",
            "1237/1237 [==============================] - 5s 4ms/sample - loss: 0.0413 - accuracy: 0.9830 - val_loss: 0.1490 - val_accuracy: 0.9734\n",
            "Epoch 99/100\n",
            "1237/1237 [==============================] - 5s 4ms/sample - loss: 0.0382 - accuracy: 0.9887 - val_loss: 0.1717 - val_accuracy: 0.9709\n",
            "Epoch 100/100\n",
            "1237/1237 [==============================] - 5s 4ms/sample - loss: 0.0318 - accuracy: 0.9887 - val_loss: 0.1839 - val_accuracy: 0.9637\n"
          ],
          "name": "stdout"
        },
        {
          "output_type": "display_data",
          "data": {
            "image/png": "[encoded data removed]",
            "text/plain": [
              "<Figure size 864x360 with 2 Axes>"
            ]
          },
          "metadata": {
            "tags": []
          }
        },
        {
          "output_type": "stream",
          "text": [
            "\r412/1 [========================================================================================================================================================================================================================================================================================================================================================================================================================================================================================================================================================================================================================================================================================================================================================================================================================================================================================================================================================================================================================================================================================================================================================================================================================================================================================================================================================================================================================================================================================================================================================================================================================================================================================================================================================================================================================================================================================================================================================================================================================================================================================================================================================================================================================================================================================================================================================================================================================================================================================================================================================================================================================================================================================================================================================================================================================================================================================================================================================================================================================================================================================================================================================================================================================================================================================================================================================================================================================================================================================================================================================================================================================================================================================================================================================================================================================================================================================================================================================================================================================================================================================================================================================================================================================================================================================================================================================================================================================================================================================================================================================================================================================================================================================================================================================================================================================================================================================================================================================================================================================================================================================================================================================================================================================================================================================================================================================================================================================================================================================================================================================================================================================================================================================================================================================================================================================================================================================================================================================================================================================================================================================================================================================================================================================================================================================================================================================================================================================================================================================================================================================================================================================================================================================================================================================================================================================================================================================================================================================================================================================================================================================================================================================================================================================================================================================================================================================================================================================================================================================================================================================================================================================================================================================================================================================================================================================================================================================================================================================================================================================================================================================================================================================================================================================================================================================================================================================================================================================================================================================================================================================================================================================================================================================================================================================================================================================================================================================================================================================================================================================================================================================================================================================================================================================================================================================================================================================================================================================================================================================================================================================================================================================================================================================================================================================================================================================================================================================================================================================================================================================================================================================================================================================================================================================================================================================================================================================================================================================================================================================================================================================================================================================================================================================================================================================================================================================================================================================================================================================================================================================================================================================================================================================================================================================================================================================================================================================================================================================================================================================================================================================================================================================================================================================================================================================================================================================================================================================================================================================================================================================================================================================================================================================================================================================================================================================================================================================================================================================================================================================================================================================================================================================================================================================================================================================================================================================================================================] - 0s 976us/sample - loss: 0.0849 - accuracy: 0.9612\n"
          ],
          "name": "stdout"
        },
        {
          "output_type": "execute_result",
          "data": {
            "text/plain": [
              "[0.1455617682483879, 0.9611651]"
            ]
          },
          "metadata": {
            "tags": []
          },
          "execution_count": 71
        }
      ]
    },
    {
      "cell_type": "code",
      "metadata": {
        "id": "BaE5AoSrryZt",
        "colab_type": "code",
        "colab": {}
      },
      "source": [
        ""
      ],
      "execution_count": 0,
      "outputs": []
    }
  ]
}